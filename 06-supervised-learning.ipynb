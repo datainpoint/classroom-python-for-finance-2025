{
 "cells": [
  {
   "cell_type": "markdown",
   "metadata": {
    "slideshow": {
     "slide_type": "slide"
    }
   },
   "source": [
    "# Python 零售銀行機器學習\n",
    "\n",
    "> 監督式學習\n",
    "\n",
    "[郭耀仁](https://hahow.in/@tonykuoyj?tr=tonykuoyj) | yaojenkuo@ntu.edu.tw"
   ]
  },
  {
   "cell_type": "code",
   "execution_count": 1,
   "metadata": {
    "slideshow": {
     "slide_type": "skip"
    }
   },
   "outputs": [],
   "source": [
    "from pyvizml import NormalEquation\n",
    "from pyvizml import LogitReg\n",
    "import matplotlib.pyplot as plt"
   ]
  },
  {
   "cell_type": "markdown",
   "metadata": {
    "slideshow": {
     "slide_type": "slide"
    }
   },
   "source": [
    "## 關於監督式學習"
   ]
  },
  {
   "cell_type": "markdown",
   "metadata": {
    "slideshow": {
     "slide_type": "subslide"
    }
   },
   "source": [
    "## 什麼是模型\n",
    "\n",
    "- 模型（Model）是一個類似於「函數」的概念，由參數與運算組成。\n",
    "- 模型的參數以及運算可以透過不同的方式生成，生成方式包含規則敘述與歷史資料訓練。\n",
    "    - 透過規則敘述生成參數以及運算，稱為基於規則的模型（Rule-based model）或稱專家模型。\n",
    "    - 透過歷史資料訓練生成參數以及運算，稱為基於演算法的模型（Algorithm-based model）或稱基於機器學習的模型。\n",
    "- 不同模型除了相互比較，也可以與基準（Baseline）模型比較，常用來作為基準模型的像是基於隨機的黑猩猩模型或稱虛假模型（Dummy model），像是以投擲硬幣、骰子或者射飛鏢來決定模型的輸出。"
   ]
  },
  {
   "cell_type": "markdown",
   "metadata": {
    "slideshow": {
     "slide_type": "subslide"
    }
   },
   "source": [
    "## 可以採用哪種模型解決問題\n",
    "\n",
    "- 採用基於規則的模型：\n",
    "    - 問題能用人類語言描述邏輯、撰寫規則。\n",
    "    - 答案不能容忍誤差。\n",
    "- 採用基於機器學習的模型：\n",
    "    - 問題非領域專家不容易描述邏輯、撰寫規則。\n",
    "    - 答案能夠容忍誤差。"
   ]
  },
  {
   "cell_type": "markdown",
   "metadata": {
    "slideshow": {
     "slide_type": "subslide"
    }
   },
   "source": [
    "## 可以採用哪種模型解決問題（續）\n",
    "\n",
    "- 採用基於規則的模型：給定整數判斷它是否為奇數、偶數或者質數。\n",
    "- 採用基於機器學習的模型：給定一間房子的房廳衛浴數、坪數與所在縣市等資訊來預測開價。"
   ]
  },
  {
   "cell_type": "markdown",
   "metadata": {
    "slideshow": {
     "slide_type": "subslide"
    }
   },
   "source": [
    "## 基於機器學習的模型可再分為\n",
    "\n",
    "- 監督式學習：訓練資料中具備已實現的數值或標籤。\n",
    "    - 迴歸：數值預測的任務。\n",
    "    - 分類：類別預測的任務。\n",
    "- 非監督式學習：訓練資料中「不」具備已實現的數值或標籤。"
   ]
  },
  {
   "cell_type": "markdown",
   "metadata": {
    "slideshow": {
     "slide_type": "subslide"
    }
   },
   "source": [
    "## 訓練、驗證與測試\n",
    "\n",
    "- 機器學習專案中的訓練、驗證來自具備已實現數值或標籤資料集。\n",
    "- 測試則來自未實現數值或標籤資料集。\n",
    "- 在從未見過的測試資料上之表現將決定它是否會被部署到正式環境開始運作。"
   ]
  },
  {
   "cell_type": "markdown",
   "metadata": {
    "slideshow": {
     "slide_type": "subslide"
    }
   },
   "source": [
    "## 現實世界中評估模型在測試資料上的表現不容易\n",
    "\n",
    "- 時間與金錢成本上都比在驗證資料上實施來得高出許多。\n",
    "- 像是設計類似實驗組與對照組的測試環境、等待一段時間才會實現數值或標籤。"
   ]
  },
  {
   "cell_type": "markdown",
   "metadata": {
    "slideshow": {
     "slide_type": "subslide"
    }
   },
   "source": [
    "## 使用 `scikit-learn` 模組的 `train_test_split()` 函數切割資料\n",
    "\n",
    "- 訓練資料：具有實際值或標籤的已實現歷史資料。\n",
    "- 驗證資料：具有實際值或標籤的已實現歷史資料，但是在使用上偽裝成不具有實際值或標籤的待預測資料。\n",
    "- `test_size` 驗證資料比例。\n",
    "- `random_state` 觀測值洗牌的隨機種子。\n",
    "\n",
    "```python\n",
    "from sklearn.model_selection import train_test_split\n",
    "\n",
    "X_train, X_test, y_train, y_test = train_test_split(X, y, test_size=0.33, random_state=42)\n",
    "```\n",
    "\n",
    "來源：<https://scikit-learn.org/stable/modules/generated/sklearn.model_selection.train_test_split.html>"
   ]
  },
  {
   "cell_type": "markdown",
   "metadata": {
    "slideshow": {
     "slide_type": "slide"
    }
   },
   "source": [
    "## 數值預測的任務"
   ]
  },
  {
   "cell_type": "markdown",
   "metadata": {
    "slideshow": {
     "slide_type": "subslide"
    }
   },
   "source": [
    "## 數值預測的任務：迴歸模型\n",
    "\n",
    "- 「數值預測」是「監督式學習」的其中一種應用類型。\n",
    "- 預測的目標陣列 $y$ 屬於連續型數值變數。\n",
    "- 更常被稱為「迴歸模型」。"
   ]
  },
  {
   "cell_type": "markdown",
   "metadata": {
    "slideshow": {
     "slide_type": "subslide"
    }
   },
   "source": [
    "## 預測 Ames Housing dataset\n",
    "\n",
    "- 資料（Experience）：一定數量的房屋資料。\n",
    "- 任務（Task）：利用模型預測房價。\n",
    "- 評估（Performance）：模型預測的房價與實際成交價的誤差大小。\n",
    "- 但書（Condition）：隨著資料觀測值筆數增加，預測誤差應該要減少。"
   ]
  },
  {
   "cell_type": "code",
   "execution_count": 2,
   "metadata": {
    "slideshow": {
     "slide_type": "subslide"
    }
   },
   "outputs": [
    {
     "data": {
      "text/plain": [
       "dtype('int64')"
      ]
     },
     "execution_count": 2,
     "metadata": {},
     "output_type": "execute_result"
    }
   ],
   "source": [
    "import pandas as pd\n",
    "\n",
    "csv_url = \"https://raw.githubusercontent.com/datainpoint/classroom-python-for-finance-2025/refs/heads/main/ames/train.csv\"\n",
    "ames_train = pd.read_csv(csv_url) # import data\n",
    "y = ames_train[\"SalePrice\"].values\n",
    "y.dtype # y is a numeric variable"
   ]
  },
  {
   "cell_type": "markdown",
   "metadata": {
    "slideshow": {
     "slide_type": "subslide"
    }
   },
   "source": [
    "## 該如何預測 Ames Housing dataset\n",
    "\n",
    "1. 虛假模型。\n",
    "2. 基於規則的專家模型。\n",
    "3. 基於機器學習的模型。"
   ]
  },
  {
   "cell_type": "markdown",
   "metadata": {
    "slideshow": {
     "slide_type": "subslide"
    }
   },
   "source": [
    "## 虛假模型\n",
    "\n",
    "在房價全距之間取隨機整數。"
   ]
  },
  {
   "cell_type": "code",
   "execution_count": 3,
   "metadata": {},
   "outputs": [],
   "source": [
    "import numpy as np\n",
    "from sklearn.model_selection import train_test_split\n",
    "\n",
    "y_train, y_valid = train_test_split(y, test_size=0.33, random_state=42)\n",
    "y_max, y_min = y.max(), y.min()\n",
    "y_hat = np.random.randint(low=y_min, high=y_max, size=y_valid.size)"
   ]
  },
  {
   "cell_type": "markdown",
   "metadata": {
    "slideshow": {
     "slide_type": "subslide"
    }
   },
   "source": [
    "## 評估虛假模型\n",
    "\n",
    "\\begin{equation}\n",
    "\\text{MSE}_{valid} = \\frac{1}{m}\\sum_{i}^{m}{(y^{(valid)}_i - \\hat{y_i}^{(valid)})^2}\n",
    "\\end{equation}"
   ]
  },
  {
   "cell_type": "code",
   "execution_count": 4,
   "metadata": {},
   "outputs": [
    {
     "name": "stdout",
     "output_type": "stream",
     "text": [
      "88930753120.6805\n"
     ]
    }
   ],
   "source": [
    "def meanSquaredError(y_true, y_pred):\n",
    "    error = (y_true - y_pred)\n",
    "    squared_error = error**2\n",
    "    mean_squared_error = np.mean(squared_error)\n",
    "    return mean_squared_error\n",
    "\n",
    "mse_dummy = meanSquaredError(y_valid, y_hat)\n",
    "print(mse_dummy)"
   ]
  },
  {
   "cell_type": "markdown",
   "metadata": {
    "slideshow": {
     "slide_type": "subslide"
    }
   },
   "source": [
    "## 基於規則的專家模型\n",
    "\n",
    "根據 `OverallQual` 取其平均價格。"
   ]
  },
  {
   "cell_type": "code",
   "execution_count": 5,
   "metadata": {},
   "outputs": [],
   "source": [
    "mean_sale_price_by_overall_qual = ames_train.groupby(\"OverallQual\")[\"SalePrice\"].mean()\n",
    "mean_sale_price = ames_train[\"OverallQual\"].map(mean_sale_price_by_overall_qual).values\n",
    "mean_sale_price_train, y_hat = train_test_split(mean_sale_price, test_size=0.33, random_state=42)"
   ]
  },
  {
   "cell_type": "markdown",
   "metadata": {
    "slideshow": {
     "slide_type": "subslide"
    }
   },
   "source": [
    "## 評估基於規則的專家模型"
   ]
  },
  {
   "cell_type": "code",
   "execution_count": 6,
   "metadata": {},
   "outputs": [
    {
     "name": "stdout",
     "output_type": "stream",
     "text": [
      "2125791093.9187133\n"
     ]
    }
   ],
   "source": [
    "mse_expert = meanSquaredError(y_valid, y_hat)\n",
    "print(mse_expert)"
   ]
  },
  {
   "cell_type": "markdown",
   "metadata": {
    "slideshow": {
     "slide_type": "subslide"
    }
   },
   "source": [
    "## 基於機器學習的模型\n",
    "\n",
    "\\begin{equation}\n",
    "\\operatorname*{arg\\,min}_w \\; \\frac{1}{m}\\sum_{i}^{m}{(y^{(train)}_i - \\hat{y_i}^{(train)})^2} = \\frac{1}{m}\\sum_{i}^{m}{(y^{(train)}_i - x_i^{(train)} w)^2}\n",
    "\\end{equation}"
   ]
  },
  {
   "cell_type": "markdown",
   "metadata": {
    "slideshow": {
     "slide_type": "subslide"
    }
   },
   "source": [
    "## 如何決定 `X_train` 與 `y_train` 之間的關聯 $w$\n",
    "\n",
    "正規方程（Normal equation）"
   ]
  },
  {
   "cell_type": "code",
   "execution_count": 7,
   "metadata": {},
   "outputs": [],
   "source": [
    "X = ames_train[[\"OverallQual\", \"TotRmsAbvGrd\", \"YearBuilt\"]].values\n",
    "X_train, X_valid, y_train, y_valid = train_test_split(X, y, test_size=0.33, random_state=42)"
   ]
  },
  {
   "cell_type": "markdown",
   "metadata": {
    "slideshow": {
     "slide_type": "slide"
    }
   },
   "source": [
    "## 正規方程"
   ]
  },
  {
   "cell_type": "markdown",
   "metadata": {
    "slideshow": {
     "slide_type": "subslide"
    }
   },
   "source": [
    "## 使用基於最小化損失函數的機器學習模型解決數值預測的任務\n",
    "\n",
    "創造一個 $h$ 函數可以將無標籤資料 $x$ 作為輸入，以係數 $w$ 相乘後輸出 $\\hat{y}$\n",
    "\n",
    "\\begin{equation}\n",
    "\\hat{y} = h(x; w) = w_0 + w_1x_1 + ... + w_nx_n\n",
    "\\end{equation}"
   ]
  },
  {
   "cell_type": "markdown",
   "metadata": {
    "slideshow": {
     "slide_type": "subslide"
    }
   },
   "source": [
    "## 寫作成向量矩陣相乘形式，為 $w_0$ 補上 $x_0=1$\n",
    "\n",
    "\\begin{align}\n",
    "\\hat{y} &= w_0x_0 + w_1x_1 + ... + w_nx_n, \\; where \\; x_0 = 1 \\\\\n",
    "&= w^Tx\n",
    "\\end{align}"
   ]
  },
  {
   "cell_type": "markdown",
   "metadata": {
    "slideshow": {
     "slide_type": "subslide"
    }
   },
   "source": [
    "## 向量矩陣相乘形式\n",
    "\n",
    "- $m + 1$ 為觀測值列數。\n",
    "- $n + 1$ 是特徵個數。\n",
    "\n",
    "\\begin{equation}\n",
    "\\hat{y} = h(X; w) = \n",
    "\\begin{bmatrix} x_{00}, x_{01}, ..., x_{0n} \\\\ x_{10}, x_{11}, ..., x_{1n} \\\\.\\\\.\\\\.\\\\ x_{m0}, x_{m1}, ..., x_{mn}\n",
    "\\end{bmatrix}\n",
    "\\begin{bmatrix} w_0 \\\\ w_1 \\\\.\\\\.\\\\.\\\\ w_n \\end{bmatrix} = Xw\n",
    "\\end{equation}"
   ]
  },
  {
   "cell_type": "markdown",
   "metadata": {
    "slideshow": {
     "slide_type": "subslide"
    }
   },
   "source": [
    "## $h(X; w)$ 是基於 $w$ 的函數\n",
    "\n",
    "- 如果第 $i$ 個特徵 $x_i$ 對應的係數 $w_i$ 為正數，該特徵與 $\\hat{y}$ 的變動同向。\n",
    "- 如果第 $i$ 個特徵 $x_i$ 對應的係數 $w_i$ 為負數，該特徵與 $\\hat{y}$ 的變動反向。\n",
    "- 如果第 $i$ 個特徵 $x_i$ 對應的係數 $w_i$ 為零，該特徵對 $\\hat{y}$ 的變動沒有影響。"
   ]
  },
  {
   "cell_type": "markdown",
   "metadata": {
    "slideshow": {
     "slide_type": "subslide"
    }
   },
   "source": [
    "## 資料與任務已經被定義妥善\n",
    "\n",
    "- 特徵矩陣 $X$\n",
    "- 目標向量 $y$\n",
    "- 係數向量 $w$\n",
    "- 任務：將 $X$ 輸入 $h$ 來預測 $\\hat{y}$"
   ]
  },
  {
   "cell_type": "markdown",
   "metadata": {
    "slideshow": {
     "slide_type": "subslide"
    }
   },
   "source": [
    "## 定義評估\n",
    "\n",
    "評估 $h$ 的方法是計算 $y^{(train)}$ 與 $\\hat{y}^{(train)}$ 之間的均方誤差（Mean squared error）。\n",
    "\n",
    "\\begin{equation}\n",
    "\\operatorname*{arg\\,min}_w \\; \\frac{1}{m}\\sum_{i}^{m}{(y^{(train)}_i - \\hat{y_i}^{(train)})^2}\n",
    "\\end{equation}"
   ]
  },
  {
   "cell_type": "markdown",
   "metadata": {
    "slideshow": {
     "slide_type": "subslide"
    }
   },
   "source": [
    "## 寫為向量運算的外觀\n",
    "\n",
    "\\begin{equation}\n",
    "\\operatorname*{arg\\,min}_w \\; \\frac{1}{m} \\parallel {y^{(train)}_i - X^{(train)}w \\parallel^2}\n",
    "\\end{equation}"
   ]
  },
  {
   "cell_type": "markdown",
   "metadata": {
    "slideshow": {
     "slide_type": "subslide"
    }
   },
   "source": [
    "## 將均方誤差表達為一個基於係數向量 $w$ 的損失函數 $J(w)$\n",
    "\n",
    "\\begin{equation}\n",
    "J(w) = \\frac{1}{m} \\parallel {y^{(train)}_i - X^{(train)}w \\parallel^2}\n",
    "\\end{equation}"
   ]
  },
  {
   "cell_type": "markdown",
   "metadata": {
    "slideshow": {
     "slide_type": "subslide"
    }
   },
   "source": [
    "## 整理一下 $J(w)$ 的外觀\n",
    "\n",
    "為了書寫方便，我們省略訓練資料的註記$(train)$。\n",
    "\n",
    "\\begin{align}\n",
    "J(w) &= \\frac{1}{m}(Xw - y)^T(Xw - y) \\\\\n",
    "&= \\frac{1}{m}(w^TX^T - y^T)(Xw - y) \\\\\n",
    "&= \\frac{1}{m}(w^TX^TXw - w^TX^Ty - y^TXw + y^Ty) \\\\\n",
    "&= \\frac{1}{m}(w^TX^TXw - (Xw)^Ty - y^TXw + y^Ty) \\\\\n",
    "&= \\frac{1}{m}(w^TX^TXw - 2(Xw)^Ty + y^Ty)\n",
    "\\end{align}"
   ]
  },
  {
   "cell_type": "markdown",
   "metadata": {
    "slideshow": {
     "slide_type": "subslide"
    }
   },
   "source": [
    "## 求解 $J(w)$ 斜率為零的位置 $w^*$\n",
    "\n",
    "\\begin{gather}\n",
    "\\frac{\\partial}{\\partial w} J(w) = 0 \\\\\n",
    "2X^TXw - 2X^Ty = 0 \\\\\n",
    "X^TXw = X^Ty \\\\\n",
    "w^* = (X^TX)^{-1}X^Ty\n",
    "\\end{gather}"
   ]
  },
  {
   "cell_type": "markdown",
   "metadata": {
    "slideshow": {
     "slide_type": "subslide"
    }
   },
   "source": [
    "## $w^*$ 求解稱為「正規方程」\n",
    "\n",
    "\\begin{equation}\n",
    "w^* = (X^{(train)T}X^{(train)})^{-1}X^{(train)T}y^{(train)}\n",
    "\\end{equation}"
   ]
  },
  {
   "cell_type": "markdown",
   "metadata": {
    "slideshow": {
     "slide_type": "subslide"
    }
   },
   "source": [
    "## 自行定義正規方程類別 NormalEquation\n",
    "\n",
    "```python\n",
    "class NormalEquation:\n",
    "    \"\"\"\n",
    "    This class defines the Normal equation for linear regression.\n",
    "    Args:\n",
    "        fit_intercept (bool): Whether to add intercept for this model.\n",
    "    \"\"\"\n",
    "    def __init__(self, fit_intercept=True):\n",
    "        self._fit_intercept = fit_intercept\n",
    "```"
   ]
  },
  {
   "cell_type": "markdown",
   "metadata": {
    "slideshow": {
     "slide_type": "subslide"
    }
   },
   "source": [
    "```python\n",
    "    def fit(self, X_train, y_train):\n",
    "        \"\"\"\n",
    "        This function uses Normal equation to solve for weights of this model.\n",
    "        Args:\n",
    "            X_train (ndarray): 2d-array for feature matrix of training data.\n",
    "            y_train (ndarray): 1d-array for target vector of training data.\n",
    "        \"\"\"\n",
    "        self._X_train = X_train.copy()\n",
    "        self._y_train = y_train.copy()\n",
    "        m = self._X_train.shape[0]\n",
    "        if self._fit_intercept:\n",
    "            X0 = np.ones((m, 1), dtype=float)\n",
    "            self._X_train = np.concatenate([X0, self._X_train], axis=1)\n",
    "        X_train_T = np.transpose(self._X_train)\n",
    "        left_matrix = np.dot(X_train_T, self._X_train)\n",
    "        right_matrix = np.dot(X_train_T, self._y_train)\n",
    "        left_matrix_inv = np.linalg.inv(left_matrix)\n",
    "        w = np.dot(left_matrix_inv, right_matrix)\n",
    "        w_ravel = w.ravel().copy()\n",
    "        self._w = w\n",
    "        self.intercept_ = w_ravel[0]\n",
    "        self.coef_ = w_ravel[1:]\n",
    "```"
   ]
  },
  {
   "cell_type": "markdown",
   "metadata": {
    "slideshow": {
     "slide_type": "subslide"
    }
   },
   "source": [
    "```python\n",
    "    def predict(self, X_test):\n",
    "        \"\"\"\n",
    "        This function returns predicted values with weights of this model.\n",
    "        Args:\n",
    "            X_test (ndarray): 2d-array for feature matrix of test data.\n",
    "        \"\"\"\n",
    "        self._X_test = X_test.copy()\n",
    "        m = self._X_test.shape[0]\n",
    "        if self._fit_intercept:\n",
    "            X0 = np.ones((m, 1), dtype=float)\n",
    "            self._X_test = np.concatenate([X0, self._X_test], axis=1)\n",
    "        y_pred = np.dot(self._X_test, self._w)\n",
    "        return y_pred\n",
    "```"
   ]
  },
  {
   "cell_type": "code",
   "execution_count": 8,
   "metadata": {
    "slideshow": {
     "slide_type": "subslide"
    }
   },
   "outputs": [
    {
     "name": "stdout",
     "output_type": "stream",
     "text": [
      "-991771.2494876385\n",
      "[31848.38238884 12614.29301703   454.32934422]\n"
     ]
    }
   ],
   "source": [
    "h = NormalEquation()\n",
    "h.fit(X_train, y_train)\n",
    "print(h.intercept_)      # 截距項\n",
    "print(h.coef_)           # 係數項"
   ]
  },
  {
   "cell_type": "code",
   "execution_count": 9,
   "metadata": {
    "slideshow": {
     "slide_type": "subslide"
    }
   },
   "outputs": [
    {
     "name": "stdout",
     "output_type": "stream",
     "text": [
      "[166853.3056425  282477.15914194 106034.77384488 172198.32915208\n",
      " 282388.9439545 ]\n"
     ]
    }
   ],
   "source": [
    "# 預測\n",
    "y_hat = h.predict(X_valid)\n",
    "print(y_hat[:5])"
   ]
  },
  {
   "cell_type": "markdown",
   "metadata": {
    "slideshow": {
     "slide_type": "subslide"
    }
   },
   "source": [
    "## 評估基於規則的專家模型"
   ]
  },
  {
   "cell_type": "code",
   "execution_count": 10,
   "metadata": {},
   "outputs": [
    {
     "name": "stdout",
     "output_type": "stream",
     "text": [
      "2226050365.1493487\n"
     ]
    }
   ],
   "source": [
    "mse_ml = meanSquaredError(y_valid, y_hat)\n",
    "print(mse_ml)"
   ]
  },
  {
   "cell_type": "code",
   "execution_count": 11,
   "metadata": {
    "slideshow": {
     "slide_type": "subslide"
    }
   },
   "outputs": [
    {
     "name": "stdout",
     "output_type": "stream",
     "text": [
      "2125791093.9187133\n",
      "2226050365.1493487\n",
      "88930753120.6805\n"
     ]
    }
   ],
   "source": [
    "print(mse_expert)\n",
    "print(mse_ml)\n",
    "print(mse_dummy)"
   ]
  },
  {
   "cell_type": "markdown",
   "metadata": {
    "slideshow": {
     "slide_type": "slide"
    }
   },
   "source": [
    "## 類別預測的任務"
   ]
  },
  {
   "cell_type": "markdown",
   "metadata": {
    "slideshow": {
     "slide_type": "subslide"
    }
   },
   "source": [
    "## 類別預測的任務：分類器\n",
    "\n",
    "- 「類別預測」是「監督式學習」的其中一種應用類型。\n",
    "- 預測的目標向量 $y$ 屬於離散型的類別變數。\n",
    "- 更常被稱為「分類器」。"
   ]
  },
  {
   "cell_type": "markdown",
   "metadata": {
    "slideshow": {
     "slide_type": "subslide"
    }
   },
   "source": [
    "## 預測 Titanic 乘客的死亡或存活\n",
    "\n",
    "- 資料（Experience）：一定數量的乘客資料。\n",
    "- 任務（Task）：利用模型預測乘客是死亡或存活。\n",
    "- 評估（Performance）：模型預測與乘客實際死亡或存活的誤分類數。\n",
    "- 但書（Condition）：隨著資料觀測值筆數增加，預測誤分類數應該要減少。"
   ]
  },
  {
   "cell_type": "code",
   "execution_count": 12,
   "metadata": {
    "slideshow": {
     "slide_type": "subslide"
    }
   },
   "outputs": [
    {
     "name": "stdout",
     "output_type": "stream",
     "text": [
      "int64\n"
     ]
    },
    {
     "data": {
      "text/html": [
       "<div>\n",
       "<style scoped>\n",
       "    .dataframe tbody tr th:only-of-type {\n",
       "        vertical-align: middle;\n",
       "    }\n",
       "\n",
       "    .dataframe tbody tr th {\n",
       "        vertical-align: top;\n",
       "    }\n",
       "\n",
       "    .dataframe thead th {\n",
       "        text-align: right;\n",
       "    }\n",
       "</style>\n",
       "<table border=\"1\" class=\"dataframe\">\n",
       "  <thead>\n",
       "    <tr style=\"text-align: right;\">\n",
       "      <th></th>\n",
       "      <th>PassengerId</th>\n",
       "      <th>Survived</th>\n",
       "      <th>Pclass</th>\n",
       "      <th>Name</th>\n",
       "      <th>Sex</th>\n",
       "      <th>Age</th>\n",
       "      <th>SibSp</th>\n",
       "      <th>Parch</th>\n",
       "      <th>Ticket</th>\n",
       "      <th>Fare</th>\n",
       "      <th>Cabin</th>\n",
       "      <th>Embarked</th>\n",
       "    </tr>\n",
       "  </thead>\n",
       "  <tbody>\n",
       "    <tr>\n",
       "      <th>0</th>\n",
       "      <td>1</td>\n",
       "      <td>0</td>\n",
       "      <td>3</td>\n",
       "      <td>Braund, Mr. Owen Harris</td>\n",
       "      <td>male</td>\n",
       "      <td>22.0</td>\n",
       "      <td>1</td>\n",
       "      <td>0</td>\n",
       "      <td>A/5 21171</td>\n",
       "      <td>7.2500</td>\n",
       "      <td>NaN</td>\n",
       "      <td>S</td>\n",
       "    </tr>\n",
       "    <tr>\n",
       "      <th>1</th>\n",
       "      <td>2</td>\n",
       "      <td>1</td>\n",
       "      <td>1</td>\n",
       "      <td>Cumings, Mrs. John Bradley (Florence Briggs Th...</td>\n",
       "      <td>female</td>\n",
       "      <td>38.0</td>\n",
       "      <td>1</td>\n",
       "      <td>0</td>\n",
       "      <td>PC 17599</td>\n",
       "      <td>71.2833</td>\n",
       "      <td>C85</td>\n",
       "      <td>C</td>\n",
       "    </tr>\n",
       "    <tr>\n",
       "      <th>2</th>\n",
       "      <td>3</td>\n",
       "      <td>1</td>\n",
       "      <td>3</td>\n",
       "      <td>Heikkinen, Miss. Laina</td>\n",
       "      <td>female</td>\n",
       "      <td>26.0</td>\n",
       "      <td>0</td>\n",
       "      <td>0</td>\n",
       "      <td>STON/O2. 3101282</td>\n",
       "      <td>7.9250</td>\n",
       "      <td>NaN</td>\n",
       "      <td>S</td>\n",
       "    </tr>\n",
       "    <tr>\n",
       "      <th>3</th>\n",
       "      <td>4</td>\n",
       "      <td>1</td>\n",
       "      <td>1</td>\n",
       "      <td>Futrelle, Mrs. Jacques Heath (Lily May Peel)</td>\n",
       "      <td>female</td>\n",
       "      <td>35.0</td>\n",
       "      <td>1</td>\n",
       "      <td>0</td>\n",
       "      <td>113803</td>\n",
       "      <td>53.1000</td>\n",
       "      <td>C123</td>\n",
       "      <td>S</td>\n",
       "    </tr>\n",
       "    <tr>\n",
       "      <th>4</th>\n",
       "      <td>5</td>\n",
       "      <td>0</td>\n",
       "      <td>3</td>\n",
       "      <td>Allen, Mr. William Henry</td>\n",
       "      <td>male</td>\n",
       "      <td>35.0</td>\n",
       "      <td>0</td>\n",
       "      <td>0</td>\n",
       "      <td>373450</td>\n",
       "      <td>8.0500</td>\n",
       "      <td>NaN</td>\n",
       "      <td>S</td>\n",
       "    </tr>\n",
       "  </tbody>\n",
       "</table>\n",
       "</div>"
      ],
      "text/plain": [
       "   PassengerId  Survived  Pclass  \\\n",
       "0            1         0       3   \n",
       "1            2         1       1   \n",
       "2            3         1       3   \n",
       "3            4         1       1   \n",
       "4            5         0       3   \n",
       "\n",
       "                                                Name     Sex   Age  SibSp  \\\n",
       "0                            Braund, Mr. Owen Harris    male  22.0      1   \n",
       "1  Cumings, Mrs. John Bradley (Florence Briggs Th...  female  38.0      1   \n",
       "2                             Heikkinen, Miss. Laina  female  26.0      0   \n",
       "3       Futrelle, Mrs. Jacques Heath (Lily May Peel)  female  35.0      1   \n",
       "4                           Allen, Mr. William Henry    male  35.0      0   \n",
       "\n",
       "   Parch            Ticket     Fare Cabin Embarked  \n",
       "0      0         A/5 21171   7.2500   NaN        S  \n",
       "1      0          PC 17599  71.2833   C85        C  \n",
       "2      0  STON/O2. 3101282   7.9250   NaN        S  \n",
       "3      0            113803  53.1000  C123        S  \n",
       "4      0            373450   8.0500   NaN        S  "
      ]
     },
     "execution_count": 12,
     "metadata": {},
     "output_type": "execute_result"
    }
   ],
   "source": [
    "csv_url = \"https://raw.githubusercontent.com/datainpoint/classroom-python-for-finance-2025/refs/heads/main/titanic/train.csv\"\n",
    "titanic_train = pd.read_csv(csv_url)\n",
    "y = titanic_train[\"Survived\"].values\n",
    "print(y.dtype)\n",
    "titanic_train.head()"
   ]
  },
  {
   "cell_type": "markdown",
   "metadata": {
    "slideshow": {
     "slide_type": "subslide"
    }
   },
   "source": [
    "## `titanic_train` 資料中的 `Survived` 有 2 個不同的類別"
   ]
  },
  {
   "cell_type": "code",
   "execution_count": 13,
   "metadata": {},
   "outputs": [
    {
     "name": "stdout",
     "output_type": "stream",
     "text": [
      "[0 1]\n",
      "2\n"
     ]
    }
   ],
   "source": [
    "print(titanic_train[\"Survived\"].unique())\n",
    "print(titanic_train[\"Survived\"].nunique())"
   ]
  },
  {
   "cell_type": "markdown",
   "metadata": {
    "slideshow": {
     "slide_type": "subslide"
    }
   },
   "source": [
    "## 該如何預測 Titanic dataset\n",
    "\n",
    "1. 虛假模型。\n",
    "2. 基於規則的專家模型。\n",
    "3. 基於機器學習的模型。"
   ]
  },
  {
   "cell_type": "markdown",
   "metadata": {
    "slideshow": {
     "slide_type": "subslide"
    }
   },
   "source": [
    "## 虛假模型\n",
    "\n",
    "在 `[0, 1]` 兩個值隨機取值。"
   ]
  },
  {
   "cell_type": "code",
   "execution_count": 14,
   "metadata": {
    "slideshow": {
     "slide_type": "subslide"
    }
   },
   "outputs": [
    {
     "name": "stdout",
     "output_type": "stream",
     "text": [
      "[1 1 1 0 1 0 1 0 0 1 0 1 0 0 1 0 1 0 1 0 0 0 0 0 0 1 1 0 0 1 0 0 0 0 0 1 0\n",
      " 0 0 0 1 0 1 0 1 1 1 0 0 1 0 1 1 0 1 1 0 0 1 0 1 0 0 0 1 0 0 1 0 1 1 1 0 0\n",
      " 1 1 1 0 0 0 0 1 0 0 1 1 0 1 1 1 0 0 1 1 0 1 1 1 0 1 1 0 1 0 0 0 1 1 1 0 1\n",
      " 0 0 1 0 0 1 0 1 1 0 0 0 1 0 0 1 0 0 0 1 1 0 0 0 0 1 0 1 1 1 1 1 0 0 1 1 0\n",
      " 1 1 0 0 0 1 0 1 1 1 1 0 1 1 0 1 0 0 0 0 0 1 0 0 1 1 0 1 0 1 1 1 1 1 0 1 0\n",
      " 1 0 0 0 0 0 0 1 1 0 1 1 0 0 1 0 1 1 0 1 0 1 0 0 1 1 0 1 1 1 1 0 0 1 0 0 0\n",
      " 0 1 1 0 0 0 0 0 1 0 1 0 1 0 0 1 1 0 1 1 0 0 0 1 0 0 1 0 0 1 1 1 1 0 1 0 0\n",
      " 0 0 0 0 0 1 1 1 1 1 0 0 0 1 0 0 0 1 0 0 1 1 0 1 1 0 1 0 0 1 0 0 0 0 0 1]\n"
     ]
    }
   ],
   "source": [
    "import numpy as np\n",
    "from sklearn.model_selection import train_test_split\n",
    "\n",
    "y_train, y_valid = train_test_split(y, test_size=0.33, random_state=42)\n",
    "y_hat = np.random.choice([0, 1], size=y_valid.size)\n",
    "print(y_hat)"
   ]
  },
  {
   "cell_type": "markdown",
   "metadata": {
    "slideshow": {
     "slide_type": "subslide"
    }
   },
   "source": [
    "## 評估虛假模型：誤分類數\n",
    "\n",
    "\\begin{align}\n",
    "\\text{Errors}^{(valid)} = \\sum_j n(E^{(valid)}_j) \\\\ \\text{ where } E^{(valid)}_j \\; \\text{represents the occurrence of } y^{(valid)}_j \\neq \\hat{y^{(valid)}_j}\n",
    "\\end{align}"
   ]
  },
  {
   "cell_type": "code",
   "execution_count": 15,
   "metadata": {},
   "outputs": [
    {
     "name": "stdout",
     "output_type": "stream",
     "text": [
      "151\n"
     ]
    }
   ],
   "source": [
    "errors_dummy = np.sum(np.not_equal(y_valid, y_hat))\n",
    "print(errors_dummy)"
   ]
  },
  {
   "cell_type": "markdown",
   "metadata": {
    "slideshow": {
     "slide_type": "subslide"
    }
   },
   "source": [
    "## 基於規則的專家模型\n",
    "\n",
    "- 年紀小於等於 `20` 或大於等於 `65` 為 `1`。\n",
    "    - 年紀大於 `20` 或小於 `65` 則以性別判斷，是 `female` 則為 `1`，`male` 為 `0`。"
   ]
  },
  {
   "cell_type": "code",
   "execution_count": 16,
   "metadata": {},
   "outputs": [
    {
     "name": "stdout",
     "output_type": "stream",
     "text": [
      "[0, 0, 1, 1, 1, 1, 1, 1, 1, 1, 0, 0, 1, 0, 0, 1, 0, 1, 0, 0, 0, 0, 1, 1, 0, 1, 0, 0, 1, 1, 1, 1, 0, 1, 1, 0, 0, 1, 1, 0, 0, 0, 0, 0, 1, 1, 1, 0, 0, 0, 1, 1, 0, 1, 1, 1, 0, 1, 1, 1, 0, 1, 1, 0, 0, 1, 0, 0, 1, 1, 1, 1, 0, 1, 0, 0, 1, 1, 1, 1, 1, 1, 1, 0, 0, 1, 1, 1, 0, 0, 1, 1, 0, 0, 0, 0, 0, 0, 1, 0, 0, 0, 1, 0, 0, 0, 1, 0, 0, 0, 1, 0, 1, 0, 0, 1, 1, 0, 1, 1, 0, 1, 1, 1, 0, 0, 1, 0, 1, 0, 1, 0, 0, 1, 0, 1, 1, 0, 0, 1, 0, 1, 0, 0, 1, 1, 0, 1, 1, 0, 0, 0, 1, 1, 0, 0, 0, 1, 1, 1, 0, 0, 0, 1, 0, 1, 0, 1, 0, 0, 0, 1, 0, 1, 1, 0, 1, 1, 1, 0, 0, 0, 0, 1, 0, 0, 0, 0, 0, 1, 0, 0, 1, 0, 1, 1, 1, 0, 1, 1, 0, 1, 1, 1, 1, 1, 0, 0, 0, 0, 0, 0, 1, 0, 1, 1, 1, 0, 1, 0, 0, 1, 1, 0, 0, 1, 0, 1, 1, 1, 0, 1, 0, 1, 0, 1, 1, 1, 1, 0, 1, 1, 0, 1, 0, 0, 0, 0, 0, 0, 1, 0, 0, 0, 0, 0, 0, 1, 0, 1, 1, 0, 1, 0, 0, 1, 1, 0, 1, 0, 1, 0, 0, 0, 1, 0, 1, 0, 1, 0, 0, 1, 1, 0, 0, 1, 1, 0, 1, 1, 1, 0, 1, 1, 0]\n"
     ]
    }
   ],
   "source": [
    "X = titanic_train[[\"Age\", \"Sex\"]].values\n",
    "X_train, X_valid, y_train, y_valid = train_test_split(X, y, test_size=0.33, random_state=42)\n",
    "y_hat = list()\n",
    "for age, sex in zip(X_valid[:, 0], X_valid[:, 1]):\n",
    "    if age <= 20 or age >= 65:\n",
    "        y_hat.append(1)\n",
    "    elif sex == \"female\":\n",
    "        y_hat.append(1)\n",
    "    else:\n",
    "        y_hat.append(0)\n",
    "print(y_hat)"
   ]
  },
  {
   "cell_type": "markdown",
   "metadata": {
    "slideshow": {
     "slide_type": "subslide"
    }
   },
   "source": [
    "## 評估基於規則的專家模型：誤分類數\n",
    "\n",
    "\\begin{align}\n",
    "\\text{Errors}^{(valid)} = \\sum_j n(E^{(valid)}_j) \\\\ \\text{ where } E^{(valid)}_j \\; \\text{represents the occurrence of } y^{(valid)}_j \\neq \\hat{y^{(valid)}_j}\n",
    "\\end{align}"
   ]
  },
  {
   "cell_type": "code",
   "execution_count": 17,
   "metadata": {},
   "outputs": [
    {
     "name": "stdout",
     "output_type": "stream",
     "text": [
      "79\n"
     ]
    }
   ],
   "source": [
    "errors_expert = np.sum(np.not_equal(y_valid, y_hat))\n",
    "print(errors_expert)"
   ]
  },
  {
   "cell_type": "markdown",
   "metadata": {
    "slideshow": {
     "slide_type": "subslide"
    }
   },
   "source": [
    "## 在預測類別的前一步是預測機率\n",
    "\n",
    "\\begin{equation}\n",
    "\\hat{y} = 1, \\quad \\text{if} \\: \\hat{p}(y=1|X; w) \\geq \\hat{p}(y=0|X; w) \\\\\n",
    "\\hat{y} = 0, \\quad \\text{if} \\: \\hat{p}(y=1|X; w) < \\hat{p}(y=0|X; w)\n",
    "\\end{equation}"
   ]
  },
  {
   "cell_type": "markdown",
   "metadata": {
    "slideshow": {
     "slide_type": "subslide"
    }
   },
   "source": [
    "## 如何決定 `X_train` 與 `y_train` 之間的關聯 $w$\n",
    "\n",
    "- 分類器。\n",
    "    - 以羅吉斯迴歸為例。"
   ]
  },
  {
   "cell_type": "markdown",
   "metadata": {
    "slideshow": {
     "slide_type": "slide"
    }
   },
   "source": [
    "## 羅吉斯迴歸"
   ]
  },
  {
   "cell_type": "markdown",
   "metadata": {
    "slideshow": {
     "slide_type": "subslide"
    }
   },
   "source": [
    "## 承先啟後的橋樑\n",
    "\n",
    "- 羅吉斯迴歸（Logistic Regression）分類器能夠協助我們由數值預測過渡至類別預測的任務。\n",
    "- 欲得到類別預測 $\\hat{y}$ 必須先得到類別預測機率 $\\hat{p}$。"
   ]
  },
  {
   "cell_type": "markdown",
   "metadata": {
    "slideshow": {
     "slide_type": "subslide"
    }
   },
   "source": [
    "## Sigmoid 函數\n",
    "\n",
    "\\begin{equation}\n",
    "\\sigma(x) = \\frac{1}{1 + e^{-x}} \\\\\n",
    "\\hat{p} = \\sigma(Xw) = \\frac{1}{1 + e^{-Xw}}\n",
    "\\end{equation}"
   ]
  },
  {
   "cell_type": "code",
   "execution_count": 18,
   "metadata": {
    "slideshow": {
     "slide_type": "subslide"
    }
   },
   "outputs": [],
   "source": [
    "def sigmoid(x):\n",
    "    return(1 / (1 + np.exp(-x)))"
   ]
  },
  {
   "cell_type": "code",
   "execution_count": 19,
   "metadata": {
    "slideshow": {
     "slide_type": "subslide"
    }
   },
   "outputs": [],
   "source": [
    "def plot_sigmoid():\n",
    "    x = np.linspace(-6, 6, 100)\n",
    "    y = sigmoid(x)\n",
    "    fig = plt.figure()\n",
    "    ax = plt.axes()\n",
    "    ax.plot(x, y)\n",
    "    ax.axvline(0, color = 'black')\n",
    "    ax.axhline(y = 0, ls = ':', color = 'k', alpha = 0.5)\n",
    "    ax.axhline(y = 0.5, ls = ':', color = 'k', alpha = 0.5)\n",
    "    ax.axhline(y = 1, ls = ':', color = 'k', alpha = 0.5)\n",
    "    ax.set_yticks([0.0, 0.5, 1.0])\n",
    "    ax.set_ylim(-0.1, 1.1)\n",
    "    ax.set_title(\"Sigmoid function\")\n",
    "    plt.show()"
   ]
  },
  {
   "cell_type": "code",
   "execution_count": 20,
   "metadata": {
    "slideshow": {
     "slide_type": "subslide"
    }
   },
   "outputs": [
    {
     "data": {
      "image/png": "[encoded data removed]",
      "text/plain": [
       "<Figure size 640x480 with 1 Axes>"
      ]
     },
     "metadata": {},
     "output_type": "display_data"
    }
   ],
   "source": [
    "plot_sigmoid()"
   ]
  },
  {
   "cell_type": "markdown",
   "metadata": {
    "slideshow": {
     "slide_type": "subslide"
    }
   },
   "source": [
    "## 將迴歸模型的輸出 $Xw$ 映射至 $[0, 1]$ 之間就能獲得 $\\hat{p}$\n",
    "\n",
    "- 依據門檻值獲得 $\\hat{y}$\n",
    "- 此處門檻值以常見的 50% 表示。\n",
    "\n",
    "\\begin{equation}\n",
    "\\hat{y} = 1, \\quad \\text{if} \\: \\hat{p} \\geq 0.5 \\\\\n",
    "\\hat{y} = 0, \\quad \\text{if} \\: \\hat{p} < 0.5\n",
    "\\end{equation}"
   ]
  },
  {
   "cell_type": "markdown",
   "metadata": {
    "slideshow": {
     "slide_type": "subslide"
    }
   },
   "source": [
    "## 資料與任務已經被定義妥善\n",
    "\n",
    "- 特徵矩陣 $X$\n",
    "- 目標向量 $y$\n",
    "- 係數向量 $w$\n",
    "- 任務：將 $X$ 輸入 $h$ 來預測 $\\hat{y}$，$h$ 的組成可以拆解成 Sigmoid 函數 $\\sigma$ 以及門檻值比較兩道程序。"
   ]
  },
  {
   "cell_type": "markdown",
   "metadata": {
    "slideshow": {
     "slide_type": "subslide"
    }
   },
   "source": [
    "## 將門檻值比較表示為階躍函式（Step function）\n",
    "\n",
    "\\begin{align}\n",
    "\\hat{y} &= h(X; w) \\\\\n",
    "&= \\chi(\\sigma(Xw))\n",
    "\\end{align}\n",
    "\n",
    "\\begin{equation}\n",
    "\\sigma(x) = \\frac{1}{1 + e^{-x}} \\\\\n",
    "\\chi(z) = 1, \\quad \\text{if} \\: z \\geq 0.5 \\\\\n",
    "\\chi(z) = 0, \\quad \\text{if} \\: z < 0.5\n",
    "\\end{equation}"
   ]
  },
  {
   "cell_type": "markdown",
   "metadata": {
    "slideshow": {
     "slide_type": "subslide"
    }
   },
   "source": [
    "## 定義評估\n",
    "\n",
    "評估 $h$ 的方法是計算 $\\hat{y}^{(train)}$ 與 $y^{(train)}$ 之間的誤分類數，誤分類數愈低，分類器的表現愈好。\n",
    "\n",
    "\\begin{align}\n",
    "\\operatorname*{arg\\,min}_w \\; J(w) = \\sum_j n(E^{(train)}_j) \\\\ \\text{ where } E^{(train)}_j \\; \\text{represents the occurrence of } y^{(train)}_j \\neq \\hat{y^{(train)}_j}\n",
    "\\end{align}"
   ]
  },
  {
   "cell_type": "markdown",
   "metadata": {
    "slideshow": {
     "slide_type": "subslide"
    }
   },
   "source": [
    "## 使用交叉熵（Cross-entropy）作為損失函數 $J(w)$\n",
    "\n",
    "為了書寫方便，我們省略訓練資料的註記$(train)$。\n",
    "\n",
    "\\begin{equation}\n",
    "J(w) = -\\frac{1}{m}log(\\sigma(Xw)), \\quad \\text{if} \\: y = 1 \\\\\n",
    "J(w) = -\\frac{1}{m}log(1-\\sigma(Xw)), \\quad \\text{if} \\: y = 0\n",
    "\\end{equation}"
   ]
  },
  {
   "cell_type": "markdown",
   "metadata": {
    "slideshow": {
     "slide_type": "subslide"
    }
   },
   "source": [
    "## 交叉熵巧妙之處：讓誤分類的損失趨近無限大\n",
    "\n",
    "- 當真實的類別 $y$ 為 1，$\\sigma(Xw)$ 若離 0 比較近，預測為類別 0 的機率較高。\n",
    "- 當真實的類別 $y$ 為 0，$\\sigma(Xw)$ 若離 1 比較近，預測為類別 1 的機率較高。"
   ]
  },
  {
   "cell_type": "code",
   "execution_count": 21,
   "metadata": {
    "slideshow": {
     "slide_type": "subslide"
    }
   },
   "outputs": [],
   "source": [
    "def plot_cross_entropy():\n",
    "    epsilon = 1e-5\n",
    "    h = np.linspace(epsilon, 1-epsilon) # 利用微小值 epsilon 避免 log(0) 的錯誤\n",
    "    y1 = -np.log(h)\n",
    "    y2 = -np.log(1 - h)\n",
    "    fig, ax = plt.subplots(1, 2, figsize = (8, 4))\n",
    "    ax[0].plot(h, y1)\n",
    "    ax[0].set_title(\"$y=1$\\n$-\\log(\\sigma(Xw))$\")\n",
    "    ax[0].set_xticks([0, 1])\n",
    "    ax[0].set_xticklabels([0, 1])\n",
    "    ax[0].set_xlabel(\"$\\sigma(Xw)$\")\n",
    "    ax[1].plot(h, y2)\n",
    "    ax[1].set_title(\"$y=0$\\n$-\\log(1-\\sigma(Xw))$\")\n",
    "    ax[1].set_xticks([0, 1])\n",
    "    ax[1].set_xticklabels([0, 1])\n",
    "    ax[1].set_xlabel(\"$\\sigma(Xw)$\")\n",
    "    plt.tight_layout()\n",
    "    plt.show()"
   ]
  },
  {
   "cell_type": "code",
   "execution_count": 22,
   "metadata": {
    "slideshow": {
     "slide_type": "subslide"
    }
   },
   "outputs": [
    {
     "data": {
      "image/png": "[encoded data removed]",
      "text/plain": [
       "<Figure size 800x400 with 2 Axes>"
      ]
     },
     "metadata": {},
     "output_type": "display_data"
    }
   ],
   "source": [
    "plot_cross_entropy()"
   ]
  },
  {
   "cell_type": "markdown",
   "metadata": {
    "slideshow": {
     "slide_type": "subslide"
    }
   },
   "source": [
    "## 將 $y$ 與 $1-y$ 加入 $J(w)$ 把兩個情境（$y=0$ 或 $y=1$）合而為一\n",
    "\n",
    "當 $y=1$ 時，$J(w)$ 只剩下前項；當 $y=0$ 時，$J(w)$ 只剩下後項。\n",
    "\n",
    "\\begin{equation}\n",
    "J(w) = \\frac{1}{m}(-ylog(\\sigma(Xw)) - (1-y)log(1-\\sigma(Xw)))\n",
    "\\end{equation}"
   ]
  },
  {
   "cell_type": "markdown",
   "metadata": {
    "slideshow": {
     "slide_type": "subslide"
    }
   },
   "source": [
    "## 運用梯度遞減找到係數向量 $w^*$\n",
    "\n",
    "\\begin{equation}\n",
    "w := w - \\alpha \\frac{\\partial J}{\\partial w}\n",
    "\\end{equation}"
   ]
  },
  {
   "cell_type": "markdown",
   "metadata": {
    "slideshow": {
     "slide_type": "subslide"
    }
   },
   "source": [
    "## 求解 $J(w)$ 關於 $w$ 的偏微分得具備三個先修知識\n",
    "\n",
    "1. 連鎖法則（Chain rule）。\n",
    "2. $e^{x}$ 關於 $x$ 的微分。\n",
    "3. $log(x)$ 關於 $x$ 的微分。"
   ]
  },
  {
   "cell_type": "markdown",
   "metadata": {
    "slideshow": {
     "slide_type": "subslide"
    }
   },
   "source": [
    "## $J(w)$ 是一個由多個不同函數複合而成的損失函數\n",
    "\n",
    "- 先是 Sigmoid 函數 $\\sigma$\n",
    "- 再來是 $log$ 函數。\n",
    "- 欲求解複合函式偏微分得仰賴連鎖法則。\n",
    "\n",
    "\\begin{align}\n",
    "(f\\circ g)(x) &= f(g(x)) \\\\\n",
    "(f\\circ g)'(x) &= f'(g(x))g'(x)\n",
    "\\end{align}"
   ]
  },
  {
   "cell_type": "markdown",
   "metadata": {
    "slideshow": {
     "slide_type": "subslide"
    }
   },
   "source": [
    "## $e^{x}$ 關於 $x$ 的微分\n",
    "\n",
    "\\begin{equation}\n",
    "\\frac{d}{dx}e^{x} = e^{x}\n",
    "\\end{equation}"
   ]
  },
  {
   "cell_type": "markdown",
   "metadata": {
    "slideshow": {
     "slide_type": "subslide"
    }
   },
   "source": [
    "## $log(x)$ 關於 $x$ 的微分\n",
    "\n",
    "\\begin{equation}\n",
    "\\frac{d}{dx}log(x) = \\frac{1}{x}\n",
    "\\end{equation}"
   ]
  },
  {
   "cell_type": "markdown",
   "metadata": {
    "slideshow": {
     "slide_type": "subslide"
    }
   },
   "source": [
    "## 推導 $J(w)$ 關於 $w$ 的偏微分\n",
    "\n",
    "\\begin{align}\n",
    "\\frac{\\partial}{\\partial w}J &= \\frac{\\partial}{\\partial w} (-ylog(\\sigma(Xw)) - (1-y)log(1-\\sigma(Xw))) \\\\\n",
    "&= -y\\frac{\\partial}{\\partial w}log(\\sigma(Xw)) - (1-y)\\frac{\\partial}{\\partial w}(log(1-\\sigma(Xw)))\n",
    "\\end{align}"
   ]
  },
  {
   "cell_type": "markdown",
   "metadata": {
    "slideshow": {
     "slide_type": "subslide"
    }
   },
   "source": [
    "## 首先計算 $log(\\sigma(Xw))$ 關於 $w$ 的微分\n",
    "\n",
    "\\begin{align}\n",
    "\\frac{\\partial}{\\partial w}log(\\sigma(Xw)) &= \\frac{\\partial}{\\partial w}log(\\sigma(Xw)) \\cdot \\frac{\\partial}{\\partial w}(\\sigma(Xw)) \\\\\n",
    "&= \\frac{1}{\\sigma(Xw)} \\cdot \\sigma'(Xw) \\cdot \\frac{\\partial}{\\partial w}Xw \\\\\n",
    "&= \\frac{1}{\\sigma(Xw)} \\cdot \\sigma'(Xw) \\cdot X\n",
    "\\end{align}"
   ]
  },
  {
   "cell_type": "markdown",
   "metadata": {
    "slideshow": {
     "slide_type": "subslide"
    }
   },
   "source": [
    "## 再計算 $log(1-\\sigma(Xw))$ 關於 $w$ 的微分\n",
    "\n",
    "\\begin{align}\n",
    "\\frac{\\partial}{\\partial w}log(1-\\sigma(Xw)) &= \\frac{\\partial}{\\partial w}log(1-\\sigma(Xw)) \\cdot \\frac{\\partial}{\\partial w}(1-\\sigma(Xw)) \\\\\n",
    "&=\\frac{1}{1-\\sigma(Xw)} \\cdot (-\\sigma'(Xw) \\cdot \\frac{\\partial}{\\partial w}Xw) \\\\\n",
    "&=\\frac{1}{1-\\sigma(Xw)} \\cdot (-\\sigma'(Xw) \\cdot X)\n",
    "\\end{align}"
   ]
  },
  {
   "cell_type": "markdown",
   "metadata": {
    "slideshow": {
     "slide_type": "subslide"
    }
   },
   "source": [
    "## 兩個部分都得先計算 $\\sigma'(Xw)$ 也就是 Sigmoid 函數關於 $w$ 的微分，才能繼續推導\n",
    "\n",
    "\\begin{align}\n",
    "\\sigma'(Xw) &= \\frac{\\partial}{\\partial w} \\frac{1}{1 + e^{-Xw}} = \\frac{\\partial}{\\partial w} (1 + e^{-Xw})^{-1} \\\\\n",
    "&= \\frac{-\\frac{\\partial}{\\partial w}(1 + e^{-Xw})}{(1 + e^{-Xw})^2}\n",
    "\\end{align}"
   ]
  },
  {
   "cell_type": "markdown",
   "metadata": {
    "slideshow": {
     "slide_type": "subslide"
    }
   },
   "source": [
    "## 分子部分我們先推導 $e^{-x}$ 關於 $x$ 的微分\n",
    "\n",
    "\\begin{equation}\n",
    "\\frac{d}{dx}e^{-x} = \\frac{d}{dx}\\frac{1}{e^x} = \\frac{-\\frac{d}{dx} e^x}{(e^x)^2} = \\frac{-e^x}{(e^x)^2} = \\frac{-1}{e^x} = -e^{-x}\n",
    "\\end{equation}"
   ]
  },
  {
   "cell_type": "markdown",
   "metadata": {
    "slideshow": {
     "slide_type": "subslide"
    }
   },
   "source": [
    "## 於是 $\\sigma'(Xw)$ 可以寫成\n",
    "\n",
    "\\begin{align}\n",
    "\\sigma'(Xw) &= \\frac{-\\frac{\\partial}{\\partial w}e^{-Xw}}{(1 + e^{-Xw})^2} = \\frac{e^{-Xw}}{(1 + e^{-Xw})^2} \\\\\n",
    "&= \\frac{e^{-Xw}}{(1 + e^{-Xw}) \\cdot (1 + e^{-Xw})}\n",
    "\\end{align}"
   ]
  },
  {
   "cell_type": "markdown",
   "metadata": {
    "slideshow": {
     "slide_type": "subslide"
    }
   },
   "source": [
    "## 這裡的推導有些狡猾，需要在分子設計一個 `+1-1`\n",
    "\n",
    "\\begin{align}\n",
    "\\sigma'(Xw) &= \\frac{e^{-Xw}}{(1 + e^{-Xw}) \\cdot (1 + e^{-Xw})} \\\\\n",
    "&= \\frac{1}{1 + e^{-Xw}} \\cdot \\frac{e^{-Xw} + 1 - 1}{1 + e^{-Xw}} = \\frac{1}{1 + e^{-Xw}} \\cdot ( \\frac{1 + e^{-Xw}}{1 + e^{-Xw}} - \\frac{1}{1 + e^{-Xw}}) \\\\\n",
    "&=\\frac{1}{1 + e^{-Xw}} \\cdot ( 1 - \\frac{1}{1 + e^{-Xw}}) \\\\\n",
    "&=\\sigma(Xw)(1-\\sigma(Xw))\n",
    "\\end{align}"
   ]
  },
  {
   "cell_type": "markdown",
   "metadata": {
    "slideshow": {
     "slide_type": "subslide"
    }
   },
   "source": [
    "## 推導出 $\\sigma'(Xw)$，再回去計算未完的兩個部分\n",
    "\n",
    "\\begin{align}\n",
    "\\frac{\\partial}{\\partial w}log(\\sigma(Xw)) &= \\frac{1}{\\sigma(Xw)} \\cdot \\sigma'(Xw) \\cdot X \\\\\n",
    "&= \\frac{1}{\\sigma(Xw)}\\sigma(Xw)(1-\\sigma(Xw))X \\\\\n",
    "&= (1-\\sigma(Xw))X\n",
    "\\end{align}\n",
    "\n",
    "\\begin{align}\n",
    "\\frac{\\partial}{\\partial w}log(1-\\sigma(Xw)) &= \\frac{1}{1-\\sigma(Xw)} \\cdot (-\\sigma'(Xw)) \\cdot X\\\\\n",
    "&=\\frac{1}{1-\\sigma(Xw)}(-(\\sigma(Xw)(1-\\sigma(Xw)))X) \\\\\n",
    "&=-\\sigma(Xw)X\n",
    "\\end{align}"
   ]
  },
  {
   "cell_type": "markdown",
   "metadata": {
    "slideshow": {
     "slide_type": "subslide"
    }
   },
   "source": [
    "## 最後回到 $J(w)$ 關於 $w$ 的偏微分\n",
    "\n",
    "\\begin{align}\n",
    "\\frac{\\partial J}{\\partial w} &= \\frac{1}{m}(-y(1-\\sigma(Xw))X - (1-y)(-\\sigma(Xw)X)) \\\\\n",
    "&=\\frac{1}{m}(-X^Ty + y\\sigma(Xw)X + X^T\\sigma(Xw) - y\\sigma(Xw)X) \\\\\n",
    "&=\\frac{1}{m}(-X^Ty + X^T\\sigma(Xw)) \\\\\n",
    "&=\\frac{1}{m}(X^T(\\sigma(Xw) - y))\n",
    "\\end{align}"
   ]
  },
  {
   "cell_type": "markdown",
   "metadata": {
    "slideshow": {
     "slide_type": "subslide"
    }
   },
   "source": [
    "## 梯度推導完畢\n",
    "\n",
    "在迭代過程中 $w$ 更新的方向性取決於梯度正負號，如果梯度為正，$w$ 會向左更新（減小）；如果梯度為負，$w$ 會向右更新（增大）。\n",
    "\n",
    "\\begin{equation}\n",
    "w := w - \\alpha \\frac{1}{m}(X^T(\\sigma(X^{(train)}w) - y^{(train)})) \\\\\n",
    "w := w - \\alpha \\frac{1}{m}(X^T(\\sigma(\\hat{y}^{(train)}) - y^{(train)}))\n",
    "\\end{equation}"
   ]
  },
  {
   "cell_type": "markdown",
   "metadata": {
    "slideshow": {
     "slide_type": "subslide"
    }
   },
   "source": [
    "## 自訂羅吉斯迴歸類別 LogitReg"
   ]
  },
  {
   "cell_type": "markdown",
   "metadata": {},
   "source": [
    "```python\n",
    "class LogitReg:\n",
    "    \"\"\"\n",
    "    This class defines the vanilla descent algorithm for logistic regression.\n",
    "    Args:\n",
    "        fit_intercept (bool): Whether to add intercept for this model.\n",
    "    \"\"\"\n",
    "    def __init__(self, fit_intercept=True):\n",
    "        self._fit_intercept = fit_intercept\n",
    "```"
   ]
  },
  {
   "cell_type": "markdown",
   "metadata": {
    "slideshow": {
     "slide_type": "subslide"
    }
   },
   "source": [
    "```python\n",
    "    def sigmoid(self, X):\n",
    "        \"\"\"\n",
    "        This function returns the Sigmoid output as a probability given certain model weights.\n",
    "        \"\"\"\n",
    "        X_w = np.dot(X, self._w)\n",
    "        p_hat = 1 / (1 + np.exp(-X_w))\n",
    "        return p_hat\n",
    "    def find_gradient(self):\n",
    "        \"\"\"\n",
    "        This function returns the gradient given certain model weights.\n",
    "        \"\"\"\n",
    "        m = self._m\n",
    "        p_hat = self.sigmoid(self._X_train)\n",
    "        X_train_T = np.transpose(self._X_train)\n",
    "        gradient = (1/m) * np.dot(X_train_T, p_hat - self._y_train)\n",
    "        return gradient\n",
    "```"
   ]
  },
  {
   "cell_type": "markdown",
   "metadata": {
    "slideshow": {
     "slide_type": "subslide"
    }
   },
   "source": [
    "```python\n",
    "    def cross_entropy(self, epsilon=1e-06):\n",
    "        \"\"\"\n",
    "        This function returns the cross entropy given certain model weights.\n",
    "        \"\"\"\n",
    "        m = self._m\n",
    "        p_hat = self.sigmoid(self._X_train)\n",
    "        cost_y1 = -np.dot(self._y_train, np.log(p_hat + epsilon))\n",
    "        cost_y0 = -np.dot(1 - self._y_train, np.log(1 - p_hat + epsilon))\n",
    "        cross_entropy = (cost_y1 + cost_y0) / m\n",
    "        return cross_entropy\n",
    "```"
   ]
  },
  {
   "cell_type": "markdown",
   "metadata": {
    "slideshow": {
     "slide_type": "subslide"
    }
   },
   "source": [
    "```python\n",
    "    def fit(self, X_train, y_train, epochs=10000, learning_rate=0.001):\n",
    "        \"\"\"\n",
    "        This function uses vanilla gradient descent to solve for weights of this model.\n",
    "        Args:\n",
    "            X_train (ndarray): 2d-array for feature matrix of training data.\n",
    "            y_train (ndarray): 1d-array for target vector of training data.\n",
    "            epochs (int): The number of iterations to update the model weights.\n",
    "            learning_rate (float): The learning rate of gradient descent.\n",
    "        \"\"\"\n",
    "        self._X_train = X_train.copy()\n",
    "        self._y_train = y_train.copy()\n",
    "        m = self._X_train.shape[0]\n",
    "        self._m = m\n",
    "        if self._fit_intercept:\n",
    "            X0 = np.ones((self._m, 1), dtype=float)\n",
    "            self._X_train = np.concatenate([X0, self._X_train], axis=1)\n",
    "        n = self._X_train.shape[1]\n",
    "        self._w = np.random.rand(n)\n",
    "        n_prints = 10\n",
    "        print_iter = epochs // n_prints\n",
    "        for i in range(epochs):\n",
    "            cross_entropy = self.cross_entropy()\n",
    "            gradient = self.find_gradient()\n",
    "            if i % print_iter == 0:\n",
    "                print(\"epoch: {:6} - loss: {:.6f}\".format(i, cross_entropy))\n",
    "            self._w -= learning_rate*gradient\n",
    "        w_ravel = self._w.ravel().copy()\n",
    "        self.intercept_ = w_ravel[0]\n",
    "        self.coef_ = w_ravel[1:].reshape(1, -1)\n",
    "```"
   ]
  },
  {
   "cell_type": "markdown",
   "metadata": {
    "slideshow": {
     "slide_type": "subslide"
    }
   },
   "source": [
    "```python\n",
    "    def predict_proba(self, X_test):\n",
    "        \"\"\"\n",
    "        This function returns predicted probability with weights of this model.\n",
    "        Args:\n",
    "            X_test (ndarray): 2d-array for feature matrix of test data.\n",
    "        \"\"\"\n",
    "        m = X_test.shape[0]\n",
    "        if self._fit_intercept:\n",
    "            X0 = np.ones((m, 1), dtype=float)\n",
    "            self._X_test = np.concatenate([X0, X_test], axis=1)\n",
    "        p_hat_1 = self.sigmoid(self._X_test).reshape(-1, 1)\n",
    "        p_hat_0 = 1 - p_hat_1\n",
    "        proba = np.concatenate([p_hat_0, p_hat_1], axis=1)\n",
    "        return proba\n",
    "    def predict(self, X_test):\n",
    "        \"\"\"\n",
    "        This function returns predicted label with weights of this model.\n",
    "        Args:\n",
    "            X_test (ndarray): 2d-array for feature matrix of test data.\n",
    "        \"\"\"\n",
    "        proba = self.predict_proba(X_test)\n",
    "        y_pred = np.argmax(proba, axis=1)\n",
    "        return y_pred\n",
    "```"
   ]
  },
  {
   "cell_type": "code",
   "execution_count": 23,
   "metadata": {
    "slideshow": {
     "slide_type": "subslide"
    }
   },
   "outputs": [
    {
     "name": "stdout",
     "output_type": "stream",
     "text": [
      "epoch:      0 - loss: 2.591563\n",
      "epoch:  10000 - loss: 0.647756\n",
      "epoch:  20000 - loss: 1.227990\n",
      "epoch:  30000 - loss: 0.650459\n",
      "epoch:  40000 - loss: 0.642875\n",
      "epoch:  50000 - loss: 1.173155\n",
      "epoch:  60000 - loss: 0.649876\n",
      "epoch:  70000 - loss: 0.716797\n",
      "epoch:  80000 - loss: 0.844682\n",
      "epoch:  90000 - loss: 0.643606\n"
     ]
    }
   ],
   "source": [
    "X = titanic_train[[\"Parch\", \"Fare\"]].values\n",
    "X_train, X_valid, y_train, y_valid = train_test_split(X, y, test_size=0.33, random_state=42)\n",
    "h = LogitReg()\n",
    "h.fit(X_train, y_train, 100000, 0.01)"
   ]
  },
  {
   "cell_type": "code",
   "execution_count": 24,
   "metadata": {
    "slideshow": {
     "slide_type": "subslide"
    }
   },
   "outputs": [
    {
     "data": {
      "text/plain": [
       "array([[0.75355379, 0.24644621],\n",
       "       [0.75533004, 0.24466996],\n",
       "       [0.76770564, 0.23229436],\n",
       "       [0.65649865, 0.34350135],\n",
       "       [0.75168382, 0.24831618]])"
      ]
     },
     "execution_count": 24,
     "metadata": {},
     "output_type": "execute_result"
    }
   ],
   "source": [
    "## 預測機率\n",
    "p_hat = h.predict_proba(X_valid)\n",
    "p_hat[:5]"
   ]
  },
  {
   "cell_type": "code",
   "execution_count": 25,
   "metadata": {
    "slideshow": {
     "slide_type": "subslide"
    }
   },
   "outputs": [
    {
     "name": "stdout",
     "output_type": "stream",
     "text": [
      "[0 0 0 0 0]\n"
     ]
    }
   ],
   "source": [
    "## 預測類別\n",
    "y_hat = h.predict(X_valid)\n",
    "print(y_hat[:5])"
   ]
  },
  {
   "cell_type": "markdown",
   "metadata": {
    "slideshow": {
     "slide_type": "subslide"
    }
   },
   "source": [
    "## 評估基於機器學習的模型：誤分類數\n",
    "\n",
    "\\begin{align}\n",
    "\\text{Errors}^{(valid)} = \\sum_j n(E^{(valid)}_j) \\\\ \\text{ where } E^{(valid)}_j \\; \\text{represents the occurrence of } y^{(valid)}_j \\neq \\hat{y^{(valid)}_j}\n",
    "\\end{align}"
   ]
  },
  {
   "cell_type": "code",
   "execution_count": 26,
   "metadata": {},
   "outputs": [
    {
     "name": "stdout",
     "output_type": "stream",
     "text": [
      "151\n",
      "79\n",
      "96\n"
     ]
    }
   ],
   "source": [
    "errors_ml = np.sum(np.not_equal(y_valid, y_hat))\n",
    "print(errors_dummy)\n",
    "print(errors_expert)\n",
    "print(errors_ml)"
   ]
  },
  {
   "cell_type": "markdown",
   "metadata": {
    "slideshow": {
     "slide_type": "slide"
    }
   },
   "source": [
    "## 無法描述規則的任務"
   ]
  },
  {
   "cell_type": "markdown",
   "metadata": {
    "slideshow": {
     "slide_type": "subslide"
    }
   },
   "source": [
    "## 前面的數值、類別預測任務我們都有建立基於規則的專家模型\n",
    "\n",
    "- 有一些問題無法建立基於規則的專家模型，像是影像分類、語音識別或機器翻譯等，都屬於無法描述規則的任務。\n",
    "- 對人類來說影像分類、語音識別或語言翻譯是很輕易能辦到的，但要寫出其中的規則、邏輯是極其困難的。"
   ]
  },
  {
   "cell_type": "markdown",
   "metadata": {
    "slideshow": {
     "slide_type": "subslide"
    }
   },
   "source": [
    "## 該如何處理無法描述規則的任務\n",
    "\n",
    "- 以機器學習領域的一個分支**深度學習**來處理。\n",
    "- 深度學習是一種不需要使用者**直接**決定特徵的最適化方法，而是由深度學習的結構**間接**決定。"
   ]
  }
 ],
 "metadata": {
  "celltoolbar": "Slideshow",
  "kernelspec": {
   "display_name": "Data Science",
   "language": "python",
   "name": "datascience"
  },
  "language_info": {
   "codemirror_mode": {
    "name": "ipython",
    "version": 3
   },
   "file_extension": ".py",
   "mimetype": "text/x-python",
   "name": "python",
   "nbconvert_exporter": "python",
   "pygments_lexer": "ipython3",
   "version": "3.11.9"
  }
 },
 "nbformat": 4,
 "nbformat_minor": 4
}
