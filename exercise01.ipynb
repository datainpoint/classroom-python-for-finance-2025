{
 "cells": [
  {
   "cell_type": "markdown",
   "id": "c4be2d65",
   "metadata": {},
   "source": [
    "# Python 零售銀行機器學習\n",
    "\n",
    "> 練習題（一）\n",
    "\n",
    "[郭耀仁](https://hahow.in/@tonykuoyj?tr=tonykuoyj) | yaojenkuo@ntu.edu.tw"
   ]
  },
  {
   "cell_type": "code",
   "execution_count": null,
   "id": "f3fb6b2c",
   "metadata": {},
   "outputs": [],
   "source": [
    "import unittest\n",
    "import numpy as np\n",
    "import pandas as pd"
   ]
  },
  {
   "cell_type": "markdown",
   "id": "dfe8fb23",
   "metadata": {},
   "source": [
    "## 01. 給定 Santander Customer Transaction Prediction 資料來源，將 `train.csv` 上傳至 Google Colab 並載入成為 Pandas DataFrame\n",
    "\n",
    "- 資料來源：<https://www.kaggle.com/competitions/santander-customer-transaction-prediction>\n",
    "- 預期輸出：外型為 `(200000, 202)` 的 `DataFrame`"
   ]
  },
  {
   "cell_type": "code",
   "execution_count": null,
   "id": "56905bca",
   "metadata": {},
   "outputs": [],
   "source": [
    "def answer_01():\n",
    "    \"\"\"\n",
    "    >>> df = answer_01()\n",
    "    >>> df.shape\n",
    "    (200000, 202)\n",
    "    >>> type(df)\n",
    "    pandas.core.frame.DataFrame\n",
    "    \"\"\""
   ]
  },
  {
   "cell_type": "markdown",
   "id": "8bd1c49d",
   "metadata": {},
   "source": [
    "## 02. 給定前述函數，將 Santander Customer Transaction Prediction `train.csv` 的目標陣列（`target`）擷取出來。\n",
    "\n",
    "- 預期輸出：外型為 `(200000,)` 的 `ndarray`"
   ]
  },
  {
   "cell_type": "code",
   "execution_count": null,
   "id": "c24a8dc7",
   "metadata": {},
   "outputs": [],
   "source": [
    "def answer_02():\n",
    "    \"\"\"\n",
    "    >>> y = answer_02()\n",
    "    >>> y.shape\n",
    "    (200000,)\n",
    "    >>> type(y)\n",
    "    numpy.ndarray\n",
    "    \"\"\""
   ]
  },
  {
   "cell_type": "markdown",
   "id": "50bb441f",
   "metadata": {},
   "source": [
    "## 03. 給定前述函數，將 Santander Customer Transaction Prediction `train.csv` 的目標陣列（`target`）獨一值分佈擷取出來。\n",
    "\n",
    "- 預期輸出：長度為 2 的 `dict`"
   ]
  },
  {
   "cell_type": "code",
   "execution_count": null,
   "id": "c1748403",
   "metadata": {},
   "outputs": [],
   "source": [
    "def answer_03():\n",
    "    \"\"\"\n",
    "    >>> target_distribution = answer_03()\n",
    "    >>> target_distribution\n",
    "    {0: 179902, 1: 20098}\n",
    "    >>> len(target_distribution)\n",
    "    2\n",
    "    >>> type(target_distribution)\n",
    "    dict\n",
    "    >>> target_distribution[0]\n",
    "    179902\n",
    "    >>> target_distribution[1]\n",
    "    20098\n",
    "    \"\"\""
   ]
  },
  {
   "cell_type": "markdown",
   "id": "ed18a40a",
   "metadata": {},
   "source": [
    "## 04. 給定前述函數，將 Santander Customer Transaction Prediction `train.csv` 的特徵矩陣（除了 `ID_code` 與 `target` 以外的變數）擷取出來。\n",
    "\n",
    "- 預期輸出：外型為 (200000, 200) 的 `ndarray`"
   ]
  },
  {
   "cell_type": "code",
   "execution_count": null,
   "id": "bfaff1d9",
   "metadata": {},
   "outputs": [],
   "source": [
    "def answer_04():\n",
    "    \"\"\"\n",
    "    >>> X = answer_04()\n",
    "    >>> X.shape\n",
    "    (200000, 200)\n",
    "    >>> type(X)\n",
    "    numpy.ndarray\n",
    "    \"\"\""
   ]
  },
  {
   "cell_type": "markdown",
   "id": "a6a5ae43",
   "metadata": {},
   "source": [
    "## 05. 給定 BNP Paribas Cardif Claims Management 資料來源，將 `train.csv` 上傳至 Google Colab 並載入成為 Pandas DataFrame\n",
    "\n",
    "- 資料來源：<https://www.kaggle.com/competitions/bnp-paribas-cardif-claims-management>\n",
    "- 預期輸出：外型為 `(114321, 133)` 的 `DataFrame`"
   ]
  },
  {
   "cell_type": "code",
   "execution_count": null,
   "id": "8700e886",
   "metadata": {},
   "outputs": [],
   "source": [
    "def answer_05():\n",
    "    \"\"\"\n",
    "    >>> df = answer_05()\n",
    "    >>> df.shape\n",
    "    (114321, 133)\n",
    "    >>> type(df)\n",
    "    pandas.core.frame.DataFrame\n",
    "    \"\"\""
   ]
  },
  {
   "cell_type": "markdown",
   "id": "2082bd0e",
   "metadata": {},
   "source": [
    "## 06. 給定前述函數，將 BNP Paribas Cardif Claims Management `train.csv` 的目標陣列（`target`）擷取出來。\n",
    "\n",
    "- 預期輸出：外型為 `(114321,)` 的 `ndarray`"
   ]
  },
  {
   "cell_type": "code",
   "execution_count": null,
   "id": "787cfef7",
   "metadata": {},
   "outputs": [],
   "source": [
    "def answer_06():\n",
    "    \"\"\"\n",
    "    >>> y = answer_06()\n",
    "    >>> y.shape\n",
    "    (114321,)\n",
    "    >>> type(y)\n",
    "    numpy.ndarray\n",
    "    \"\"\""
   ]
  },
  {
   "cell_type": "markdown",
   "id": "a33867d2",
   "metadata": {},
   "source": [
    "## 07. 給定前述函數，將 NP Paribas Cardif Claims Management `train.csv` 的目標陣列（`target`）獨一值分佈擷取出來。\n",
    "\n",
    "- 預期輸出：長度為 2 的 `dict`"
   ]
  },
  {
   "cell_type": "code",
   "execution_count": null,
   "id": "e7cc360d",
   "metadata": {},
   "outputs": [],
   "source": [
    "def answer_07():\n",
    "    \"\"\"\n",
    "    >>> target_distribution = answer_07()\n",
    "    >>> target_distribution\n",
    "    {0: 27300, 1: 87021}\n",
    "    >>> len(target_distribution)\n",
    "    2\n",
    "    >>> type(target_distribution)\n",
    "    dict\n",
    "    >>> target_distribution[0]\n",
    "    27300\n",
    "    >>> target_distribution[1]\n",
    "    87021\n",
    "    \"\"\""
   ]
  },
  {
   "cell_type": "markdown",
   "id": "4f6d107a",
   "metadata": {},
   "source": [
    "## 08. 給定前述函數，將 BNP Paribas Cardif Claims Management `train.csv` 的特徵矩陣（除了 `ID` 與 `target` 以外的變數）擷取出來。\n",
    "\n",
    "- 預期輸出：外型為 (114321, 131) 的 `ndarray`"
   ]
  },
  {
   "cell_type": "code",
   "execution_count": null,
   "id": "ce7c1a54",
   "metadata": {},
   "outputs": [],
   "source": [
    "def answer_08():\n",
    "    \"\"\"\n",
    "    >>> X = answer_08()\n",
    "    >>> X.shape\n",
    "    (114321, 131)\n",
    "    >>> type(X)\n",
    "    numpy.ndarray\n",
    "    \"\"\""
   ]
  },
  {
   "cell_type": "markdown",
   "id": "cd767168",
   "metadata": {},
   "source": [
    "## 測試"
   ]
  },
  {
   "cell_type": "code",
   "execution_count": null,
   "id": "d02c2d35",
   "metadata": {},
   "outputs": [],
   "source": [
    "class TestExercise01(unittest.TestCase):\n",
    "    def test_01(self):\n",
    "        self.assertEqual(answer_01().shape, (200000, 202))\n",
    "    def test_02(self):\n",
    "        self.assertEqual(answer_02().shape, (200000,))\n",
    "    def test_03(self):\n",
    "        self.assertEqual(answer_03()[0], 179902)\n",
    "        self.assertEqual(answer_03()[1], 20098)\n",
    "    def test_04(self):\n",
    "        self.assertEqual(answer_04().shape, (200000, 200))\n",
    "    def test_05(self):\n",
    "        self.assertEqual(answer_05().shape, (114321, 133))\n",
    "    def test_06(self):\n",
    "        self.assertEqual(answer_06().shape, (114321,))\n",
    "    def test_07(self):\n",
    "        self.assertEqual(answer_07()[0], 27300)\n",
    "        self.assertEqual(answer_07()[1], 87021)\n",
    "    def test_08(self):\n",
    "        self.assertEqual(answer_08().shape, (114321, 131))\n",
    "\n",
    "suite = unittest.TestLoader().loadTestsFromTestCase(TestExercise01)\n",
    "runner = unittest.TextTestRunner(verbosity=2)\n",
    "test_results = runner.run(suite)\n",
    "number_of_failures = len(test_results.failures)\n",
    "number_of_errors = len(test_results.errors)\n",
    "number_of_test_runs = test_results.testsRun\n",
    "number_of_successes = number_of_test_runs - (number_of_failures + number_of_errors)\n",
    "chapter_name = \"練習題（一）\"\n",
    "print(f\"您在「{chapter_name}」的 {number_of_test_runs} 個練習題中答對了 {number_of_successes} 題。\")"
   ]
  }
 ],
 "metadata": {
  "kernelspec": {
   "display_name": "Data Science",
   "language": "python",
   "name": "datascience"
  },
  "language_info": {
   "codemirror_mode": {
    "name": "ipython",
    "version": 3
   },
   "file_extension": ".py",
   "mimetype": "text/x-python",
   "name": "python",
   "nbconvert_exporter": "python",
   "pygments_lexer": "ipython3",
   "version": "3.11.9"
  }
 },
 "nbformat": 4,
 "nbformat_minor": 5
}
