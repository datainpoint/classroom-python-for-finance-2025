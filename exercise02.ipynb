{
 "cells": [
  {
   "cell_type": "markdown",
   "id": "c4be2d65",
   "metadata": {},
   "source": [
    "# Python 零售銀行機器學習\n",
    "\n",
    "> 練習題（二）\n",
    "\n",
    "[郭耀仁](https://hahow.in/@tonykuoyj?tr=tonykuoyj) | yaojenkuo@ntu.edu.tw"
   ]
  },
  {
   "cell_type": "code",
   "execution_count": null,
   "id": "f3fb6b2c",
   "metadata": {},
   "outputs": [],
   "source": [
    "import unittest\n",
    "import numpy as np\n",
    "import pandas as pd"
   ]
  },
  {
   "cell_type": "markdown",
   "id": "dfe8fb23",
   "metadata": {},
   "source": [
    "## 01. 給定 Santander Customer Transaction Prediction 資料來源，將 `train.csv` 上傳至 Google Colab 並載入成為 Pandas DataFrame\n",
    "\n",
    "- 資料來源：<https://www.kaggle.com/competitions/santander-customer-transaction-prediction>\n",
    "- 預期輸出：外型為 `(200000, 202)` 的 `DataFrame`"
   ]
  },
  {
   "cell_type": "code",
   "execution_count": null,
   "id": "56905bca",
   "metadata": {},
   "outputs": [],
   "source": [
    "def answer_01():\n",
    "    \"\"\"\n",
    "    >>> df = answer_01()\n",
    "    >>> df.shape\n",
    "    (200000, 202)\n",
    "    >>> type(df)\n",
    "    pandas.core.frame.DataFrame\n",
    "    \"\"\""
   ]
  },
  {
   "cell_type": "markdown",
   "id": "69ffe512",
   "metadata": {},
   "source": [
    "## 02. 給定前述函數，將 Santander Customer Transaction Prediction `train.csv` 的數值型欄位（整數或浮點數）回傳。\n",
    "\n",
    "- 預期輸出：長度 `201` 的 `list`"
   ]
  },
  {
   "cell_type": "code",
   "execution_count": null,
   "id": "fdf432dc",
   "metadata": {},
   "outputs": [],
   "source": [
    "def answer_02():\n",
    "    \"\"\"\n",
    "    >>> numeric_columns = answer_02()\n",
    "    >>> len(numeric_columns)\n",
    "    201\n",
    "    >>> type(numeric_columns)\n",
    "    list\n",
    "    >>> numeric_columns[0]\n",
    "    'target'\n",
    "    >>> numeric_columns[-1]\n",
    "    'var_199'\n",
    "    \"\"\""
   ]
  },
  {
   "cell_type": "markdown",
   "id": "8bd1c49d",
   "metadata": {},
   "source": [
    "## 03. 給定前述函數，將 Santander Customer Transaction Prediction `train.csv` 的目標陣列（`target`）與特徵矩陣（除了 `ID_code` 與 `target` 以外的變數）的相關係數矩陣回傳。\n",
    "\n",
    "- 預期輸出：外型為 `(201, 201)` 的 `DataFrame`"
   ]
  },
  {
   "cell_type": "code",
   "execution_count": null,
   "id": "c24a8dc7",
   "metadata": {},
   "outputs": [],
   "source": [
    "def answer_03():\n",
    "    \"\"\"\n",
    "    >>> correlation_matrix = answer_03()\n",
    "    >>> correlation_matrix.shape\n",
    "    (201, 201)\n",
    "    >>> type(correlation_matrix)\n",
    "    pandas.core.frame.DataFrame\n",
    "    \"\"\""
   ]
  },
  {
   "cell_type": "markdown",
   "id": "50bb441f",
   "metadata": {},
   "source": [
    "## 04. 給定前述函數，將 Santander Customer Transaction Prediction `train.csv` 與目標陣列相關性最高的前十個欄位回傳。\n",
    "\n",
    "- 預期輸出：長度為 10 的 `list`"
   ]
  },
  {
   "cell_type": "code",
   "execution_count": null,
   "id": "c1748403",
   "metadata": {},
   "outputs": [],
   "source": [
    "def answer_04():\n",
    "    \"\"\"\n",
    "    >>> highest_correlations = answer_04()\n",
    "    >>> len(highest_correlations)\n",
    "    10\n",
    "    >>> type(highest_correlations)\n",
    "    list\n",
    "    \"\"\""
   ]
  },
  {
   "cell_type": "markdown",
   "id": "ed18a40a",
   "metadata": {},
   "source": [
    "## 05. 給定前述函數，將 Santander Customer Transaction Prediction `train.csv` 與目標陣列相關性最高的前十個欄位作為特徵矩陣，並對應生成 `X_train`、`X_valid`、`y_train`、`y_valid`\n",
    "\n",
    "- 預期輸出：四個 `ndarray`"
   ]
  },
  {
   "cell_type": "code",
   "execution_count": null,
   "id": "bfaff1d9",
   "metadata": {},
   "outputs": [],
   "source": [
    "def answer_05():\n",
    "    \"\"\"\n",
    "    >>> X_train, X_valid, y_train, y_valid = answer_05()\n",
    "    >>> type(X_train)\n",
    "    numpy.ndarray\n",
    "    >>> type(X_valid)\n",
    "    numpy.ndarray\n",
    "    >>> type(y_train)\n",
    "    numpy.ndarray\n",
    "    >>> type(y_valid)\n",
    "    numpy.ndarray\n",
    "    >>> X_train.shape[1]\n",
    "    10\n",
    "    >>> X_valid.shape[1]\n",
    "    10\n",
    "    >>> y_train.shape[0] + y_valid.shape[0]\n",
    "    200000\n",
    "    \"\"\""
   ]
  },
  {
   "cell_type": "markdown",
   "id": "e9be58cb",
   "metadata": {},
   "source": [
    "## 06. 給定前述函數，將 Santander Customer Transaction Prediction `test.csv` 完成上傳資料集。\n",
    "\n",
    "- 預期輸出：外型為 `(200000, 2)` 的 `DataFrame`"
   ]
  },
  {
   "cell_type": "code",
   "execution_count": null,
   "id": "4a35836a",
   "metadata": {},
   "outputs": [],
   "source": [
    "def answer_06():\n",
    "    \"\"\"\n",
    "    >>> submission_df = answer_06()\n",
    "    >>> submission_df.shape\n",
    "    (200000, 2)\n",
    "    >>> type(df)\n",
    "    pandas.core.frame.DataFrame\n",
    "    \"\"\""
   ]
  },
  {
   "cell_type": "markdown",
   "id": "a6a5ae43",
   "metadata": {},
   "source": [
    "## 07. 給定 BNP Paribas Cardif Claims Management 資料來源，將 `train.csv` 上傳至 Google Colab 並載入成為 Pandas DataFrame\n",
    "\n",
    "- 資料來源：<https://www.kaggle.com/competitions/bnp-paribas-cardif-claims-management>\n",
    "- 預期輸出：外型為 `(114321, 133)` 的 `DataFrame`"
   ]
  },
  {
   "cell_type": "code",
   "execution_count": null,
   "id": "8700e886",
   "metadata": {},
   "outputs": [],
   "source": [
    "def answer_07():\n",
    "    \"\"\"\n",
    "    >>> df = answer_07()\n",
    "    >>> df.shape\n",
    "    (114321, 133)\n",
    "    >>> type(df)\n",
    "    pandas.core.frame.DataFrame\n",
    "    \"\"\""
   ]
  },
  {
   "cell_type": "markdown",
   "id": "66627dc8",
   "metadata": {},
   "source": [
    "## 08. 給定前述函數，將 BNP Paribas Cardif Claims Management `train.csv` 的數值型欄位（整數或浮點數）回傳，排除 `ID` 與 `target`。\n",
    "\n",
    "- 預期輸出：長度 `112` 的 `list`"
   ]
  },
  {
   "cell_type": "code",
   "execution_count": null,
   "id": "733c0609",
   "metadata": {},
   "outputs": [],
   "source": [
    "def answer_08():\n",
    "    \"\"\"\n",
    "    >>> numeric_columns = answer_08()\n",
    "    >>> len(numeric_columns)\n",
    "    112\n",
    "    >>> type(numeric_columns)\n",
    "    list\n",
    "    >>> numeric_columns[0]\n",
    "    'v1'\n",
    "    >>> numeric_columns[-1]\n",
    "    'v131'\n",
    "    \"\"\""
   ]
  },
  {
   "cell_type": "markdown",
   "id": "4ca04a12",
   "metadata": {},
   "source": [
    "## 09. 建立一個 `RandomForestClassifier`\n",
    "\n",
    "- 預期輸出：`RandomForestClassifier` 的實例"
   ]
  },
  {
   "cell_type": "code",
   "execution_count": null,
   "id": "01fc0d89",
   "metadata": {},
   "outputs": [],
   "source": [
    "def answer_09():\n",
    "    \"\"\"\n",
    "    >>> forest = answer_09()\n",
    "    >>> type(forest)\n",
    "    sklearn.ensemble._forest.RandomForestClassifier\n",
    "    \"\"\""
   ]
  },
  {
   "cell_type": "markdown",
   "id": "2082bd0e",
   "metadata": {},
   "source": [
    "## 10. 給定前述函數，將 BNP Paribas Cardif Claims Management `train.csv` 的特徵重要性（Feature Importance）回傳\n",
    "\n",
    "- 預期輸出：外型為 `(112,)` 的 `Series`"
   ]
  },
  {
   "cell_type": "code",
   "execution_count": null,
   "id": "787cfef7",
   "metadata": {},
   "outputs": [],
   "source": [
    "def answer_10():\n",
    "    \"\"\"\n",
    "    >>> feature_importance = answer_10()\n",
    "    >>> feature_importance.shape\n",
    "    (112,)\n",
    "    >>> type(feature_importance)\n",
    "    pandas.core.series.Series\n",
    "    \"\"\""
   ]
  },
  {
   "cell_type": "markdown",
   "id": "8fd996f4",
   "metadata": {},
   "source": [
    "## 11. 給定前述函數，將 BNP Paribas Cardif Claims Management `train.csv` 的前十特徵重要性（Feature Importance）回傳\n",
    "\n",
    "- 預期輸出：長度為 `10` 的 `list`"
   ]
  },
  {
   "cell_type": "code",
   "execution_count": null,
   "id": "7476ca7f",
   "metadata": {},
   "outputs": [],
   "source": [
    "def answer_11():\n",
    "    \"\"\"\n",
    "    >>> top_feature_importance = answer_11()\n",
    "    >>> len(top_feature_importance)\n",
    "    10\n",
    "    >>> type(top_feature_importance)\n",
    "    list\n",
    "    \"\"\""
   ]
  },
  {
   "cell_type": "markdown",
   "id": "a33867d2",
   "metadata": {},
   "source": [
    "## 12. 給定前述函數，將 BNP Paribas Cardif Claims Management `train.csv` 特徵重要性最高的前十個欄位作為特徵矩陣，刪除遺漏值列數，並對應生成 `X_train`、`X_valid`、`y_train`、`y_valid`\n",
    "\n",
    "- 預期輸出：四個 `ndarray`"
   ]
  },
  {
   "cell_type": "code",
   "execution_count": null,
   "id": "e7cc360d",
   "metadata": {},
   "outputs": [],
   "source": [
    "def answer_12():\n",
    "    \"\"\"\n",
    "    >>> X_train, X_valid, y_train, y_valid = answer_12()\n",
    "    >>> type(X_train)\n",
    "    numpy.ndarray\n",
    "    >>> type(X_valid)\n",
    "    numpy.ndarray\n",
    "    >>> type(y_train)\n",
    "    numpy.ndarray\n",
    "    >>> type(y_valid)\n",
    "    numpy.ndarray\n",
    "    >>> X_train.shape[1]\n",
    "    10\n",
    "    >>> X_valid.shape[1]\n",
    "    10\n",
    "    >>> y_train.shape[0] + y_valid.shape[0]\n",
    "    17756\n",
    "    \"\"\""
   ]
  },
  {
   "cell_type": "markdown",
   "id": "dda2cf92",
   "metadata": {},
   "source": [
    "## 13. 給定前述函數，將 BNP Paribas Cardif Claims Management 將 BNP Paribas Cardif Claims Management `test.csv` 完成上傳資料集。\n",
    "\n",
    "- 預期輸出：外型為 `(114393, 2)` 的 `DataFrame`"
   ]
  },
  {
   "cell_type": "code",
   "execution_count": null,
   "id": "0f32660a",
   "metadata": {},
   "outputs": [],
   "source": [
    "def answer_13():\n",
    "    \"\"\"\n",
    "    >>> submission_df = answer_13()\n",
    "    >>> submission_df.shape\n",
    "    (114393, 2)\n",
    "    >>> type(df)\n",
    "    pandas.core.frame.DataFrame\n",
    "    \"\"\""
   ]
  },
  {
   "cell_type": "markdown",
   "id": "cd767168",
   "metadata": {},
   "source": [
    "## 測試"
   ]
  },
  {
   "cell_type": "code",
   "execution_count": null,
   "id": "d02c2d35",
   "metadata": {},
   "outputs": [],
   "source": [
    "class TestExercise02(unittest.TestCase):\n",
    "    def test_01(self):\n",
    "        self.assertEqual(answer_01().shape, (200000, 202))\n",
    "    def test_02(self):\n",
    "        numeric_columns = answer_02()\n",
    "        self.assertEqual(len(numeric_columns), 201)\n",
    "        self.assertIn(\"target\", numeric_columns)\n",
    "        self.assertIn(\"var_199\", numeric_columns)\n",
    "    def test_03(self):\n",
    "        correlation_matrix = answer_03()\n",
    "        self.assertEqual(correlation_matrix.shape, (201, 201))\n",
    "    def test_04(self):\n",
    "        highest_correlations = answer_04()\n",
    "        self.assertEqual(len(highest_correlations), 10)\n",
    "    def test_05(self):\n",
    "        X_train, X_valid, y_train, y_valid = answer_05()\n",
    "        self.assertEqual(X_train.shape[1], 10)\n",
    "        self.assertEqual(X_valid.shape[1], 10)\n",
    "        self.assertEqual(y_train.shape[0] + y_valid.shape[0], 200000)\n",
    "    def test_06(self):\n",
    "        submission_df = answer_06()\n",
    "        self.assertEqual(submission_df.shape, (200000, 2))\n",
    "        self.assertIn(\"ID_code\", submission_df.columns)\n",
    "        self.assertIn(\"target\", submission_df.columns)\n",
    "    def test_07(self):\n",
    "        df = answer_07()\n",
    "        self.assertEqual(df.shape, (114321, 133))\n",
    "    def test_08(self):\n",
    "        numeric_columns = answer_08()\n",
    "        self.assertEqual(len(numeric_columns), 112)\n",
    "        self.assertIn('v1', numeric_columns)\n",
    "        self.assertIn('v131', numeric_columns)\n",
    "    def test_09(self):\n",
    "        import sklearn\n",
    "        forest = answer_09()\n",
    "        self.assertIsInstance(forest, sklearn.ensemble._forest.RandomForestClassifier)\n",
    "    def test_10(self):\n",
    "        feature_importance = answer_10()\n",
    "        self.assertEqual(feature_importance.shape, (112,))\n",
    "    def test_11(self):\n",
    "        top_feature_importance = answer_11()\n",
    "        self.assertEqual(len(top_feature_importance), 10)\n",
    "    def test_12(self):\n",
    "        X_train, X_valid, y_train, y_valid = answer_12()\n",
    "        self.assertEqual(X_train.shape[1], 10)\n",
    "        self.assertEqual(X_valid.shape[1], 10)\n",
    "        self.assertEqual(y_train.shape[0] + y_valid.shape[0], 17756)\n",
    "    def test_13(self):\n",
    "        submission_df = answer_13()\n",
    "        self.assertEqual(submission_df.shape, (114393, 2))\n",
    "        self.assertIn(\"ID\", submission_df.columns)\n",
    "        self.assertIn(\"PredictedProb\", submission_df.columns)\n",
    "\n",
    "suite = unittest.TestLoader().loadTestsFromTestCase(TestExercise02)\n",
    "runner = unittest.TextTestRunner(verbosity=2)\n",
    "test_results = runner.run(suite)\n",
    "number_of_failures = len(test_results.failures)\n",
    "number_of_errors = len(test_results.errors)\n",
    "number_of_test_runs = test_results.testsRun\n",
    "number_of_successes = number_of_test_runs - (number_of_failures + number_of_errors)\n",
    "chapter_name = \"練習題（二）\"\n",
    "print(f\"您在「{chapter_name}」的 {number_of_test_runs} 個練習題中答對了 {number_of_successes} 題。\")"
   ]
  }
 ],
 "metadata": {
  "kernelspec": {
   "display_name": "Data Science",
   "language": "python",
   "name": "datascience"
  },
  "language_info": {
   "codemirror_mode": {
    "name": "ipython",
    "version": 3
   },
   "file_extension": ".py",
   "mimetype": "text/x-python",
   "name": "python",
   "nbconvert_exporter": "python",
   "pygments_lexer": "ipython3",
   "version": "3.11.9"
  }
 },
 "nbformat": 4,
 "nbformat_minor": 5
}
